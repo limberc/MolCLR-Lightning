{
 "cells": [
  {
   "cell_type": "code",
   "execution_count": 1,
   "id": "7e59c8f8",
   "metadata": {},
   "outputs": [
    {
     "data": {
      "application/vnd.jupyter.widget-view+json": {
       "model_id": "a8c7dd9fcc69407c82eaad1ad3a09e55",
       "version_major": 2,
       "version_minor": 0
      },
      "text/plain": [
       "  0%|          | 0/300000 [00:00<?, ?it/s]"
      ]
     },
     "metadata": {},
     "output_type": "display_data"
    }
   ],
   "source": [
    "import numpy as np\n",
    "import selfies as sf\n",
    "from tqdm.auto import tqdm\n",
    "from dataset.dataset import read_smiles\n",
    "\n",
    "raw_smiles=read_smiles(\"./data/pubchem-10m-clean.txt\")\n",
    "raw_selfies=[]\n",
    "for smile in tqdm(raw_smiles[:300000]):\n",
    "    try:\n",
    "        raw_selfies.append(sf.encoder(smile))\n",
    "    except:\n",
    "        pass"
   ]
  },
  {
   "cell_type": "code",
   "execution_count": 2,
   "id": "ba6e6d7c",
   "metadata": {},
   "outputs": [],
   "source": [
    "alphabet = sf.get_alphabet_from_selfies(raw_selfies)\n",
    "alphabet.add(\"[nop]\")  # [nop] is a special padding symbol\n",
    "alphabet = list(sorted(alphabet))\n",
    "pad_to_len = max(sf.len_selfies(s) for s in raw_selfies)  # 5\n",
    "symbol_to_idx = {s: i for i, s in enumerate(alphabet)}"
   ]
  },
  {
   "cell_type": "code",
   "execution_count": 11,
   "id": "edd47656",
   "metadata": {},
   "outputs": [
    {
     "data": {
      "text/plain": [
       "137"
      ]
     },
     "execution_count": 11,
     "metadata": {},
     "output_type": "execute_result"
    }
   ],
   "source": [
    "len(alphabet)"
   ]
  },
  {
   "cell_type": "code",
   "execution_count": 3,
   "id": "665ca926",
   "metadata": {},
   "outputs": [],
   "source": [
    "dimethyl_ether = raw_selfies[0]"
   ]
  },
  {
   "cell_type": "code",
   "execution_count": 4,
   "id": "f7f0ddb5",
   "metadata": {},
   "outputs": [
    {
     "data": {
      "text/plain": [
       "'[C][N][Branch1][=Branch2][C][=C][C][=C][C][=C][Ring1][=Branch1][C][=C][C][=C][C][=C][Ring1][=Branch1][C][=Branch1][C][=O][N][C][C][Branch1][C][O][C][C][O][C][C][Ring1][#Branch1]'"
      ]
     },
     "execution_count": 4,
     "metadata": {},
     "output_type": "execute_result"
    }
   ],
   "source": [
    "dimethyl_ether"
   ]
  },
  {
   "cell_type": "code",
   "execution_count": 5,
   "id": "6021fe13",
   "metadata": {},
   "outputs": [],
   "source": [
    "label, one_hot = sf.selfies_to_encoding(\n",
    "   selfies=dimethyl_ether,\n",
    "   vocab_stoi=symbol_to_idx,\n",
    "   pad_to_len=pad_to_len,\n",
    "   enc_type=\"both\"\n",
    ")"
   ]
  },
  {
   "cell_type": "code",
   "execution_count": 9,
   "id": "e7b150cb",
   "metadata": {},
   "outputs": [
    {
     "data": {
      "text/plain": [
       "(967, 137)"
      ]
     },
     "execution_count": 9,
     "metadata": {},
     "output_type": "execute_result"
    }
   ],
   "source": [
    "np.array(one_hot).shape"
   ]
  }
 ],
 "metadata": {
  "kernelspec": {
   "display_name": "Python 3 (ipykernel)",
   "language": "python",
   "name": "python3"
  },
  "language_info": {
   "codemirror_mode": {
    "name": "ipython",
    "version": 3
   },
   "file_extension": ".py",
   "mimetype": "text/x-python",
   "name": "python",
   "nbconvert_exporter": "python",
   "pygments_lexer": "ipython3",
   "version": "3.10.8"
  }
 },
 "nbformat": 4,
 "nbformat_minor": 5
}
