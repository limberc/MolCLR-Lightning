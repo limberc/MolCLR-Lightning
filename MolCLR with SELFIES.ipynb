{
 "cells": [
  {
   "cell_type": "markdown",
   "id": "7866ad53",
   "metadata": {},
   "source": [
    "# Self-sup Learning with SELFIES\n",
    "\n",
    "## Prep the dataset."
   ]
  },
  {
   "cell_type": "code",
   "execution_count": 1,
   "outputs": [],
   "source": [
    "import pickle\n",
    "import random\n",
    "\n",
    "import selfies as sf\n",
    "import torch\n",
    "from tqdm.auto import tqdm\n",
    "from transformers import BertConfig, BertLMHeadModel\n",
    "\n",
    "from mol_data.dataset import read_smiles\n",
    "\n",
    "raw_smiles = read_smiles(\"./data/pubchem-10m-clean.txt\")\n",
    "random.shuffle(raw_smiles)\n",
    "raw_smiles_2m = raw_smiles[:2000000]\n",
    "\n",
    "\n",
    "def process_smiles(smile):\n",
    "    try:\n",
    "        return sf.encoder(smile)\n",
    "    except:\n",
    "        return None"
   ],
   "metadata": {
    "collapsed": false,
    "ExecuteTime": {
     "end_time": "2024-01-02T06:58:13.328998Z",
     "start_time": "2024-01-02T06:58:03.073024Z"
    }
   }
  },
  {
   "cell_type": "markdown",
   "source": [
    "Read SELFIES"
   ],
   "metadata": {
    "collapsed": false
   }
  },
  {
   "cell_type": "code",
   "execution_count": null,
   "outputs": [
    {
     "data": {
      "text/plain": "  0%|          | 0/2000000 [00:00<?, ?it/s]",
      "application/vnd.jupyter.widget-view+json": {
       "version_major": 2,
       "version_minor": 0,
       "model_id": "f7f169f8a1f448248b8dc63ff535953f"
      }
     },
     "metadata": {},
     "output_type": "display_data"
    }
   ],
   "source": [
    "raw_selfies = []\n",
    "for smile in tqdm(raw_smiles_2m):\n",
    "    raw_selfies.append(process_smiles(smile))"
   ],
   "metadata": {
    "collapsed": false,
    "is_executing": true,
    "ExecuteTime": {
     "start_time": "2024-01-02T06:58:13.329648Z"
    }
   }
  },
  {
   "cell_type": "code",
   "execution_count": null,
   "outputs": [],
   "source": [
    "# Filter out None values if any\n",
    "raw_selfies = [selfie for selfie in raw_selfies if selfie is not None]\n",
    "\n",
    "alphabet = sf.get_alphabet_from_selfies(raw_selfies)\n",
    "alphabet.add(\"[nop]\")  # [nop] is a special padding symbol\n",
    "alphabet = list(sorted(alphabet))\n",
    "pad_to_len = max(sf.len_selfies(s) for s in raw_selfies)  # Find the max length\n",
    "symbol_to_idx = {s: i for i, s in enumerate(alphabet)}\n",
    "\n",
    "\n",
    "# Function to convert selfies to encoding\n",
    "def process_to_encoding(selfie):\n",
    "    return sf.selfies_to_encoding(selfies=selfie,\n",
    "                                  vocab_stoi=symbol_to_idx,\n",
    "                                  pad_to_len=pad_to_len,\n",
    "                                  enc_type=\"label\")\n",
    "\n",
    "\n",
    "with open(\"raw_selfies.pickle\", 'wb') as f:\n",
    "    pickle.dump(raw_selfies, f)\n"
   ],
   "metadata": {
    "collapsed": false,
    "is_executing": true
   }
  },
  {
   "cell_type": "code",
   "execution_count": null,
   "outputs": [],
   "source": [
    "cfg = BertConfig(vocab_size=200, num_hidden_layers=6, max_position_embeddings=955)\n",
    "model = BertLMHeadModel(cfg)"
   ],
   "metadata": {
    "collapsed": false,
    "is_executing": true
   }
  },
  {
   "cell_type": "code",
   "execution_count": null,
   "outputs": [],
   "source": [
    "enc = sf.selfies_to_encoding(selfies=raw_selfies[0],\n",
    "                             vocab_stoi=symbol_to_idx,\n",
    "                             pad_to_len=pad_to_len,\n",
    "                             enc_type=\"label\")\n",
    "enc_tensor = torch.Tensor(enc).unsqueeze(0).int()"
   ],
   "metadata": {
    "collapsed": false,
    "is_executing": true
   }
  },
  {
   "cell_type": "code",
   "execution_count": null,
   "outputs": [],
   "source": [
    "model.forward(enc_tensor)  #%%\n",
    "raw_selfies = []\n",
    "for smile in tqdm(raw_smiles_2m):\n",
    "    raw_selfies.append(process_smiles(smile))"
   ],
   "metadata": {
    "collapsed": false
   }
  },
  {
   "cell_type": "code",
   "execution_count": null,
   "outputs": [],
   "source": [
    "model.forward(enc_tensor)  #%%\n",
    "cfg = BertConfig(vocab_size=200, num_hidden_layers=6, max_position_embeddings=955)\n",
    "model = BertLMHeadModel(cfg)"
   ],
   "metadata": {
    "collapsed": false
   }
  },
  {
   "cell_type": "code",
   "execution_count": 57,
   "id": "c576da00",
   "metadata": {},
   "outputs": [],
   "source": [
    "enc = sf.selfies_to_encoding(selfies=raw_selfies[0],\n",
    "                             vocab_stoi=symbol_to_idx,\n",
    "                             pad_to_len=pad_to_len,\n",
    "                             enc_type=\"label\")\n",
    "enc_tensor = torch.Tensor(enc).unsqueeze(0).int()"
   ]
  },
  {
   "cell_type": "code",
   "execution_count": 69,
   "id": "14f67e8c",
   "metadata": {},
   "outputs": [
    {
     "data": {
      "text/plain": [
       "CausalLMOutputWithCrossAttentions(loss=None, logits=tensor([[[ 0.0000,  0.1593,  0.4132,  ...,  0.3299,  0.8596,  0.5625],\n",
       "         [ 0.0000, -0.8123,  0.9486,  ..., -0.4053,  0.5365,  0.0542],\n",
       "         [ 0.0000,  0.0087,  0.5161,  ...,  0.4030,  0.9750,  0.2213],\n",
       "         ...,\n",
       "         [ 0.0000, -0.0752,  1.2702,  ...,  0.2011,  0.3855,  0.3431],\n",
       "         [ 0.0000, -0.0474,  1.0749,  ..., -0.4253,  0.2335,  0.8612],\n",
       "         [ 0.0000,  0.6605,  1.3869,  ...,  0.0016,  0.2408,  0.9332]]],\n",
       "       grad_fn=<ViewBackward0>), past_key_values=None, hidden_states=None, attentions=None, cross_attentions=None)"
      ]
     },
     "execution_count": 69,
     "metadata": {},
     "output_type": "execute_result"
    }
   ],
   "source": [
    "model.forward(enc_tensor)"
   ]
  }
 ],
 "metadata": {
  "kernelspec": {
   "display_name": "Python 3 (ipykernel)",
   "language": "python",
   "name": "python3"
  },
  "language_info": {
   "codemirror_mode": {
    "name": "ipython",
    "version": 3
   },
   "file_extension": ".py",
   "mimetype": "text/x-python",
   "name": "python",
   "nbconvert_exporter": "python",
   "pygments_lexer": "ipython3",
   "version": "3.10.8"
  }
 },
 "nbformat": 4,
 "nbformat_minor": 5
}
